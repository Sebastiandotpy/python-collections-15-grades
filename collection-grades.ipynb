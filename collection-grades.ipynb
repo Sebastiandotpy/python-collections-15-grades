{
 "cells": [
  {
   "cell_type": "code",
   "execution_count": 3,
   "metadata": {},
   "outputs": [
    {
     "name": "stdout",
     "output_type": "stream",
     "text": [
      "[{'name': 'Peter', 'subjects': [{'name': 'English', 'grade': 'A'}, {'name': 'German', 'grade': 'C'}, {'name': 'Maths', 'grade': 'B'}]}, {'name': 'Robin', 'subjects': [{'name': 'English', 'grade': 'D'}, {'name': 'German', 'grade': 'B'}, {'name': 'Maths', 'grade': 'B'}]}, {'name': 'Michael', 'subjects': [{'name': 'English', 'grade': 'A'}, {'name': 'German', 'grade': 'F'}, {'name': 'Maths', 'grade': 'F'}]}]\n"
     ]
    }
   ],
   "source": [
    "from typing import Dict, List\n",
    "\n",
    "MAX_FAILED_GRADES = 2\n",
    "\n",
    "def remove_students_with_failures(students: List[Dict[str, List[Dict[str, str]]]]) -> List[Dict[str, List[Dict[str, str]]]]:\n",
    "    \"\"\"\n",
    "    Removes students from the class who have more than two failed grades.\n",
    "\n",
    "    Args:\n",
    "        students (List[Dict[str, List[Dict[str, str]]]]): The list of students and their grades.\n",
    "\n",
    "    Returns:\n",
    "        List[Dict[str, List[Dict[str, str]]]]: The updated list of students after removing those with excessive failures.\n",
    "    \"\"\"\n",
    "    def count_failed_grades(student: Dict[str, List[Dict[str, str]]]) -> int:\n",
    "        return sum(1 for subject in student['subjects'] if subject['grade'] == 'F')\n",
    "\n",
    "    filtered_students = [student for student in students if count_failed_grades(student) <= MAX_FAILED_GRADES]\n",
    "    return filtered_students\n",
    "\n",
    "\n",
    "# Test the function with example input\n",
    "students = [\n",
    "    {\n",
    "        'name': 'Peter',\n",
    "        'subjects': [\n",
    "            {'name': 'English', 'grade': 'A'},\n",
    "            {'name': 'German', 'grade': 'C'},\n",
    "            {'name': 'Maths', 'grade': 'B'}\n",
    "        ]\n",
    "    },\n",
    "    {\n",
    "        'name': 'Robin',\n",
    "        'subjects': [\n",
    "            {'name': 'English', 'grade': 'D'},\n",
    "            {'name': 'German', 'grade': 'B'},\n",
    "            {'name': 'Maths', 'grade': 'B'}\n",
    "        ]\n",
    "    },\n",
    "    {\n",
    "        'name': 'Michael',\n",
    "        'subjects': [\n",
    "            {'name': 'English', 'grade': 'A'},\n",
    "            {'name': 'German', 'grade': 'F'},\n",
    "            {'name': 'Maths', 'grade': 'F'}\n",
    "        ]\n",
    "    },\n",
    "]\n",
    "\n",
    "result = remove_students_with_failures(students)\n",
    "print(result)\n",
    "\n",
    "\n"
   ]
  }
 ],
 "metadata": {
  "kernelspec": {
   "display_name": "Python 3",
   "language": "python",
   "name": "python3"
  },
  "language_info": {
   "codemirror_mode": {
    "name": "ipython",
    "version": 3
   },
   "file_extension": ".py",
   "mimetype": "text/x-python",
   "name": "python",
   "nbconvert_exporter": "python",
   "pygments_lexer": "ipython3",
   "version": "3.11.3"
  },
  "orig_nbformat": 4
 },
 "nbformat": 4,
 "nbformat_minor": 2
}
